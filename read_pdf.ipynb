{
 "cells": [
  {
   "cell_type": "code",
   "execution_count": 7,
   "metadata": {},
   "outputs": [
    {
     "name": "stdout",
     "output_type": "stream",
     "text": [
      "Collecting tabula-py\n",
      "  Downloading tabula_py-2.8.2-py3-none-any.whl (12.0 MB)\n",
      "Collecting numpy\n",
      "  Downloading numpy-1.26.0-cp39-cp39-win_amd64.whl (15.8 MB)\n",
      "Collecting pandas>=0.25.3\n",
      "  Downloading pandas-2.1.1-cp39-cp39-win_amd64.whl (10.8 MB)\n",
      "Collecting distro\n",
      "  Downloading distro-1.8.0-py3-none-any.whl (20 kB)\n",
      "Collecting jpype1\n",
      "  Downloading JPype1-1.4.1-cp39-cp39-win_amd64.whl (345 kB)\n",
      "Collecting tzdata>=2022.1\n",
      "  Downloading tzdata-2023.3-py2.py3-none-any.whl (341 kB)\n",
      "Collecting pytz>=2020.1\n",
      "  Downloading pytz-2023.3.post1-py2.py3-none-any.whl (502 kB)\n",
      "Requirement already satisfied: python-dateutil>=2.8.2 in c:\\users\\zxc12\\appdata\\roaming\\python\\python39\\site-packages (from pandas>=0.25.3->tabula-py) (2.8.2)\n",
      "Requirement already satisfied: six>=1.5 in c:\\users\\zxc12\\appdata\\roaming\\python\\python39\\site-packages (from python-dateutil>=2.8.2->pandas>=0.25.3->tabula-py) (1.16.0)\n",
      "Requirement already satisfied: packaging in c:\\users\\zxc12\\appdata\\roaming\\python\\python39\\site-packages (from jpype1->tabula-py) (23.1)\n",
      "Installing collected packages: tzdata, pytz, numpy, pandas, jpype1, distro, tabula-py\n",
      "Successfully installed distro-1.8.0 jpype1-1.4.1 numpy-1.26.0 pandas-2.1.1 pytz-2023.3.post1 tabula-py-2.8.2 tzdata-2023.3\n",
      "Note: you may need to restart the kernel to use updated packages.\n"
     ]
    },
    {
     "name": "stderr",
     "output_type": "stream",
     "text": [
      "WARNING: You are using pip version 21.1.3; however, version 23.2.1 is available.\n",
      "You should consider upgrading via the 'c:\\Users\\zxc12\\AppData\\Local\\Programs\\Python\\Python39\\python.exe -m pip install --upgrade pip' command.\n"
     ]
    }
   ],
   "source": [
    "pip install tabula-py"
   ]
  },
  {
   "cell_type": "code",
   "execution_count": 8,
   "metadata": {},
   "outputs": [
    {
     "ename": "JVMNotFoundException",
     "evalue": "No JVM shared library file (jvm.dll) found. Try setting up the JAVA_HOME environment variable properly.",
     "output_type": "error",
     "traceback": [
      "\u001b[1;31m---------------------------------------------------------------------------\u001b[0m",
      "\u001b[1;31mJVMNotFoundException\u001b[0m                      Traceback (most recent call last)",
      "\u001b[1;32mf:\\GITHUB\\financial_statement_proj\\read_pdf.ipynb Cell 2\u001b[0m line \u001b[0;36m2\n\u001b[0;32m     <a href='vscode-notebook-cell:/f%3A/GITHUB/financial_statement_proj/read_pdf.ipynb#W4sZmlsZQ%3D%3D?line=22'>23</a>\u001b[0m \u001b[39m# Usage\u001b[39;00m\n\u001b[0;32m     <a href='vscode-notebook-cell:/f%3A/GITHUB/financial_statement_proj/read_pdf.ipynb#W4sZmlsZQ%3D%3D?line=23'>24</a>\u001b[0m pdf_path \u001b[39m=\u001b[39m \u001b[39mr\u001b[39m\u001b[39m'\u001b[39m\u001b[39mF:\u001b[39m\u001b[39m\\\u001b[39m\u001b[39mGITHUB\u001b[39m\u001b[39m\\\u001b[39m\u001b[39mfinancial_statement_proj\u001b[39m\u001b[39m\\\u001b[39m\u001b[39mpdf\u001b[39m\u001b[39m\\\u001b[39m\u001b[39mgigabyte\u001b[39m\u001b[39m\\\u001b[39m\u001b[39m2022Q4.pdf\u001b[39m\u001b[39m'\u001b[39m\n\u001b[1;32m---> <a href='vscode-notebook-cell:/f%3A/GITHUB/financial_statement_proj/read_pdf.ipynb#W4sZmlsZQ%3D%3D?line=24'>25</a>\u001b[0m account_receivable \u001b[39m=\u001b[39m extract_account_receivable(pdf_path)\n\u001b[0;32m     <a href='vscode-notebook-cell:/f%3A/GITHUB/financial_statement_proj/read_pdf.ipynb#W4sZmlsZQ%3D%3D?line=26'>27</a>\u001b[0m \u001b[39mif\u001b[39;00m account_receivable \u001b[39mis\u001b[39;00m \u001b[39mnot\u001b[39;00m \u001b[39mNone\u001b[39;00m:\n\u001b[0;32m     <a href='vscode-notebook-cell:/f%3A/GITHUB/financial_statement_proj/read_pdf.ipynb#W4sZmlsZQ%3D%3D?line=27'>28</a>\u001b[0m     \u001b[39mprint\u001b[39m(\u001b[39mf\u001b[39m\u001b[39m\"\u001b[39m\u001b[39mThe account receivable is: $\u001b[39m\u001b[39m{\u001b[39;00maccount_receivable\u001b[39m}\u001b[39;00m\u001b[39m\"\u001b[39m)\n",
      "\u001b[1;32mf:\\GITHUB\\financial_statement_proj\\read_pdf.ipynb Cell 2\u001b[0m line \u001b[0;36m5\n\u001b[0;32m      <a href='vscode-notebook-cell:/f%3A/GITHUB/financial_statement_proj/read_pdf.ipynb#W4sZmlsZQ%3D%3D?line=2'>3</a>\u001b[0m \u001b[39mdef\u001b[39;00m \u001b[39mextract_account_receivable\u001b[39m(pdf_path):\n\u001b[0;32m      <a href='vscode-notebook-cell:/f%3A/GITHUB/financial_statement_proj/read_pdf.ipynb#W4sZmlsZQ%3D%3D?line=3'>4</a>\u001b[0m     \u001b[39m# Read all pages of the PDF\u001b[39;00m\n\u001b[1;32m----> <a href='vscode-notebook-cell:/f%3A/GITHUB/financial_statement_proj/read_pdf.ipynb#W4sZmlsZQ%3D%3D?line=4'>5</a>\u001b[0m     df_list \u001b[39m=\u001b[39m tabula\u001b[39m.\u001b[39;49mread_pdf(pdf_path, pages\u001b[39m=\u001b[39;49m\u001b[39m'\u001b[39;49m\u001b[39mall\u001b[39;49m\u001b[39m'\u001b[39;49m)\n\u001b[0;32m      <a href='vscode-notebook-cell:/f%3A/GITHUB/financial_statement_proj/read_pdf.ipynb#W4sZmlsZQ%3D%3D?line=6'>7</a>\u001b[0m     account_receivable \u001b[39m=\u001b[39m \u001b[39mNone\u001b[39;00m\n\u001b[0;32m      <a href='vscode-notebook-cell:/f%3A/GITHUB/financial_statement_proj/read_pdf.ipynb#W4sZmlsZQ%3D%3D?line=8'>9</a>\u001b[0m     \u001b[39m# Iterate through each DataFrame in the list\u001b[39;00m\n",
      "File \u001b[1;32mc:\\Users\\zxc12\\AppData\\Local\\Programs\\Python\\Python39\\lib\\site-packages\\tabula\\io.py:407\u001b[0m, in \u001b[0;36mread_pdf\u001b[1;34m(input_path, output_format, encoding, java_options, pandas_options, multiple_tables, user_agent, use_raw_url, pages, guess, area, relative_area, lattice, stream, password, silent, columns, relative_columns, format, batch, output_path, force_subprocess, options)\u001b[0m\n\u001b[0;32m    404\u001b[0m     \u001b[39mraise\u001b[39;00m \u001b[39mValueError\u001b[39;00m(\u001b[39mf\u001b[39m\u001b[39m\"\u001b[39m\u001b[39m{\u001b[39;00mpath\u001b[39m}\u001b[39;00m\u001b[39m is empty. Check the file, or download it manually.\u001b[39m\u001b[39m\"\u001b[39m)\n\u001b[0;32m    406\u001b[0m \u001b[39mtry\u001b[39;00m:\n\u001b[1;32m--> 407\u001b[0m     output \u001b[39m=\u001b[39m _run(\n\u001b[0;32m    408\u001b[0m         java_options,\n\u001b[0;32m    409\u001b[0m         tabula_options,\n\u001b[0;32m    410\u001b[0m         path,\n\u001b[0;32m    411\u001b[0m         encoding\u001b[39m=\u001b[39;49mencoding,\n\u001b[0;32m    412\u001b[0m         force_subprocess\u001b[39m=\u001b[39;49mforce_subprocess,\n\u001b[0;32m    413\u001b[0m     )\n\u001b[0;32m    414\u001b[0m \u001b[39mfinally\u001b[39;00m:\n\u001b[0;32m    415\u001b[0m     \u001b[39mif\u001b[39;00m temporary:\n",
      "File \u001b[1;32mc:\\Users\\zxc12\\AppData\\Local\\Programs\\Python\\Python39\\lib\\site-packages\\tabula\\io.py:72\u001b[0m, in \u001b[0;36m_run\u001b[1;34m(java_options, options, path, encoding, force_subprocess)\u001b[0m\n\u001b[0;32m     67\u001b[0m     _tabula_vm \u001b[39m=\u001b[39m SubprocessTabula(\n\u001b[0;32m     68\u001b[0m         java_options\u001b[39m=\u001b[39mjava_options, silent\u001b[39m=\u001b[39moptions\u001b[39m.\u001b[39msilent, encoding\u001b[39m=\u001b[39mencoding\n\u001b[0;32m     69\u001b[0m     )\n\u001b[0;32m     71\u001b[0m \u001b[39mif\u001b[39;00m \u001b[39mnot\u001b[39;00m _tabula_vm:\n\u001b[1;32m---> 72\u001b[0m     _tabula_vm \u001b[39m=\u001b[39m TabulaVm(java_options\u001b[39m=\u001b[39;49mjava_options, silent\u001b[39m=\u001b[39;49moptions\u001b[39m.\u001b[39;49msilent)\n\u001b[0;32m     73\u001b[0m     \u001b[39mif\u001b[39;00m _tabula_vm \u001b[39mand\u001b[39;00m \u001b[39mnot\u001b[39;00m _tabula_vm\u001b[39m.\u001b[39mtabula:\n\u001b[0;32m     74\u001b[0m         _tabula_vm \u001b[39m=\u001b[39m SubprocessTabula(\n\u001b[0;32m     75\u001b[0m             java_options\u001b[39m=\u001b[39mjava_options, silent\u001b[39m=\u001b[39moptions\u001b[39m.\u001b[39msilent, encoding\u001b[39m=\u001b[39mencoding\n\u001b[0;32m     76\u001b[0m         )\n",
      "File \u001b[1;32mc:\\Users\\zxc12\\AppData\\Local\\Programs\\Python\\Python39\\lib\\site-packages\\tabula\\backend.py:44\u001b[0m, in \u001b[0;36mTabulaVm.__init__\u001b[1;34m(self, java_options, silent)\u001b[0m\n\u001b[0;32m     35\u001b[0m     \u001b[39mif\u001b[39;00m silent:\n\u001b[0;32m     36\u001b[0m         java_options\u001b[39m.\u001b[39mextend(\n\u001b[0;32m     37\u001b[0m             (\n\u001b[0;32m     38\u001b[0m                 \u001b[39m\"\u001b[39m\u001b[39m-Dorg.slf4j.simpleLogger.defaultLogLevel=off\u001b[39m\u001b[39m\"\u001b[39m,\n\u001b[1;32m   (...)\u001b[0m\n\u001b[0;32m     41\u001b[0m             )\n\u001b[0;32m     42\u001b[0m         )\n\u001b[1;32m---> 44\u001b[0m     jpype\u001b[39m.\u001b[39;49mstartJVM(\u001b[39m*\u001b[39;49mjava_options, convertStrings\u001b[39m=\u001b[39;49m\u001b[39mFalse\u001b[39;49;00m)\n\u001b[0;32m     46\u001b[0m \u001b[39mtry\u001b[39;00m:\n\u001b[0;32m     47\u001b[0m     \u001b[39mimport\u001b[39;00m \u001b[39mjava\u001b[39;00m\u001b[39m.\u001b[39;00m\u001b[39mlang\u001b[39;00m \u001b[39mas\u001b[39;00m \u001b[39mlang\u001b[39;00m\n",
      "File \u001b[1;32mc:\\Users\\zxc12\\AppData\\Local\\Programs\\Python\\Python39\\lib\\site-packages\\jpype\\_core.py:184\u001b[0m, in \u001b[0;36mstartJVM\u001b[1;34m(*args, **kwargs)\u001b[0m\n\u001b[0;32m    182\u001b[0m     jvmpath \u001b[39m=\u001b[39m kwargs\u001b[39m.\u001b[39mpop(\u001b[39m'\u001b[39m\u001b[39mjvmpath\u001b[39m\u001b[39m'\u001b[39m)\n\u001b[0;32m    183\u001b[0m \u001b[39mif\u001b[39;00m \u001b[39mnot\u001b[39;00m jvmpath:\n\u001b[1;32m--> 184\u001b[0m     jvmpath \u001b[39m=\u001b[39m getDefaultJVMPath()\n\u001b[0;32m    186\u001b[0m \u001b[39m# Classpath handling\u001b[39;00m\n\u001b[0;32m    187\u001b[0m \u001b[39mif\u001b[39;00m _hasClassPath(args):\n\u001b[0;32m    188\u001b[0m     \u001b[39m# Old style, specified in the arguments\u001b[39;00m\n",
      "File \u001b[1;32mc:\\Users\\zxc12\\AppData\\Local\\Programs\\Python\\Python39\\lib\\site-packages\\jpype\\_jvmfinder.py:74\u001b[0m, in \u001b[0;36mgetDefaultJVMPath\u001b[1;34m()\u001b[0m\n\u001b[0;32m     72\u001b[0m \u001b[39melse\u001b[39;00m:\n\u001b[0;32m     73\u001b[0m     finder \u001b[39m=\u001b[39m LinuxJVMFinder()\n\u001b[1;32m---> 74\u001b[0m \u001b[39mreturn\u001b[39;00m finder\u001b[39m.\u001b[39;49mget_jvm_path()\n",
      "File \u001b[1;32mc:\\Users\\zxc12\\AppData\\Local\\Programs\\Python\\Python39\\lib\\site-packages\\jpype\\_jvmfinder.py:212\u001b[0m, in \u001b[0;36mJVMFinder.get_jvm_path\u001b[1;34m(self)\u001b[0m\n\u001b[0;32m    210\u001b[0m \u001b[39mif\u001b[39;00m jvm_notsupport_ext \u001b[39mis\u001b[39;00m \u001b[39mnot\u001b[39;00m \u001b[39mNone\u001b[39;00m:\n\u001b[0;32m    211\u001b[0m     \u001b[39mraise\u001b[39;00m jvm_notsupport_ext\n\u001b[1;32m--> 212\u001b[0m \u001b[39mraise\u001b[39;00m JVMNotFoundException(\u001b[39m\"\u001b[39m\u001b[39mNo JVM shared library file (\u001b[39m\u001b[39m{0}\u001b[39;00m\u001b[39m) \u001b[39m\u001b[39m\"\u001b[39m\n\u001b[0;32m    213\u001b[0m                            \u001b[39m\"\u001b[39m\u001b[39mfound. Try setting up the JAVA_HOME \u001b[39m\u001b[39m\"\u001b[39m\n\u001b[0;32m    214\u001b[0m                            \u001b[39m\"\u001b[39m\u001b[39menvironment variable properly.\u001b[39m\u001b[39m\"\u001b[39m\n\u001b[0;32m    215\u001b[0m                            \u001b[39m.\u001b[39mformat(\u001b[39mself\u001b[39m\u001b[39m.\u001b[39m_libfile))\n",
      "\u001b[1;31mJVMNotFoundException\u001b[0m: No JVM shared library file (jvm.dll) found. Try setting up the JAVA_HOME environment variable properly."
     ]
    }
   ],
   "source": [
    "import tabula\n",
    "\n",
    "def extract_account_receivable(pdf_path):\n",
    "    # Read all pages of the PDF\n",
    "    df_list = tabula.read_pdf(pdf_path, pages='all')\n",
    "    \n",
    "    account_receivable = None\n",
    "    \n",
    "    # Iterate through each DataFrame in the list\n",
    "    for df in df_list:\n",
    "        receivables = df[df.iloc[:, 0].str.contains('Accounts receivable', case=False, na=False)]\n",
    "        \n",
    "        if not receivables.empty:\n",
    "            account_receivable = float(receivables.iloc[0, -1].replace(',', '').strip('$ '))\n",
    "            break  # Exit loop once data is found\n",
    "    \n",
    "    if account_receivable is not None:\n",
    "        return account_receivable\n",
    "    else:\n",
    "        print(\"No 'Accounts receivable' found in the document.\")\n",
    "        return None\n",
    "\n",
    "# Usage\n",
    "pdf_path = r'F:\\GITHUB\\financial_statement_proj\\pdf\\gigabyte\\2022Q4.pdf'\n",
    "account_receivable = extract_account_receivable(pdf_path)\n",
    "\n",
    "if account_receivable is not None:\n",
    "    print(f\"The account receivable is: ${account_receivable}\")\n",
    "else:\n",
    "    print(\"Account receivable not found.\")\n"
   ]
  },
  {
   "cell_type": "code",
   "execution_count": null,
   "metadata": {},
   "outputs": [],
   "source": []
  }
 ],
 "metadata": {
  "kernelspec": {
   "display_name": "Python 3",
   "language": "python",
   "name": "python3"
  },
  "language_info": {
   "codemirror_mode": {
    "name": "ipython",
    "version": 3
   },
   "file_extension": ".py",
   "mimetype": "text/x-python",
   "name": "python",
   "nbconvert_exporter": "python",
   "pygments_lexer": "ipython3",
   "version": "3.9.6"
  },
  "orig_nbformat": 4
 },
 "nbformat": 4,
 "nbformat_minor": 2
}
