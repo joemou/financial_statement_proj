{
 "cells": [
  {
   "cell_type": "code",
   "execution_count": 33,
   "metadata": {},
   "outputs": [],
   "source": [
    "import requests\n",
    " \n",
    " \n",
    "domain_url = 'https://www.twse.com.tw/zh'\n",
    "response = requests.get(\n",
    "    f'{domain_url}/exchangeReport/STOCK_DAY?response=csv&date=20210901&stockNo=2330')"
   ]
  },
  {
   "cell_type": "code",
   "execution_count": 34,
   "metadata": {},
   "outputs": [],
   "source": [
    "import requests\n",
    " \n",
    " \n",
    "domain_url = 'https://www.twse.com.tw/zh'\n",
    "response = requests.get(\n",
    "    f'{domain_url}/exchangeReport/STOCK_DAY?response=csv&date=20210901&stockNo=2330')\n",
    "\t\n",
    "with open('2330.csv', 'wb') as file:\n",
    "\tfile.write(response.content)\n",
    "\tfile.close()"
   ]
  },
  {
   "cell_type": "code",
   "execution_count": null,
   "metadata": {},
   "outputs": [],
   "source": []
  }
 ],
 "metadata": {
  "kernelspec": {
   "display_name": "Python 3",
   "language": "python",
   "name": "python3"
  },
  "language_info": {
   "codemirror_mode": {
    "name": "ipython",
    "version": 3
   },
   "file_extension": ".py",
   "mimetype": "text/x-python",
   "name": "python",
   "nbconvert_exporter": "python",
   "pygments_lexer": "ipython3",
   "version": "3.9.6"
  },
  "orig_nbformat": 4
 },
 "nbformat": 4,
 "nbformat_minor": 2
}
